{
 "cells": [
  {
   "cell_type": "markdown",
   "metadata": {},
   "source": [
    "# Libraries To Be Used:\n",
    "1. Numpy\n",
    "2. Pandas\n",
    "3. Matplotlib"
   ]
  },
  {
   "cell_type": "code",
   "execution_count": 1,
   "metadata": {},
   "outputs": [],
   "source": [
    "# Importing Library\n",
    "import numpy as np"
   ]
  },
  {
   "cell_type": "code",
   "execution_count": 2,
   "metadata": {},
   "outputs": [
    {
     "name": "stdout",
     "output_type": "stream",
     "text": [
      "[1, 2, 3, 4, 5]\n",
      "<type 'list'>\n",
      "--------------------\n",
      "[1 2 3 4 5]\n",
      "<type 'numpy.ndarray'>\n",
      "int64\n",
      "(5,)\n"
     ]
    }
   ],
   "source": [
    "#Coverting lists to numpy arrays\n",
    "list = [1,2,3,4,5]\n",
    "print list\n",
    "print type(list)\n",
    "print '-'*20\n",
    "array = np.asarray(list)\n",
    "print array\n",
    "print type(array)\n",
    "print array.dtype\n",
    "print array.shape"
   ]
  },
  {
   "cell_type": "code",
   "execution_count": 3,
   "metadata": {},
   "outputs": [
    {
     "name": "stdout",
     "output_type": "stream",
     "text": [
      "[[1 2 3]\n",
      " [4 5 6]]\n",
      "(2, 3)\n"
     ]
    }
   ],
   "source": [
    "#Create new numpy arrays\n",
    "new_array = np.array([[1,2,3] , [4,5,6]])\n",
    "print new_array\n",
    "print new_array.shape"
   ]
  },
  {
   "cell_type": "code",
   "execution_count": 4,
   "metadata": {},
   "outputs": [
    {
     "name": "stdout",
     "output_type": "stream",
     "text": [
      "[[0 0 0]\n",
      " [0 0 0]\n",
      " [0 0 0]]\n",
      "int64\n"
     ]
    }
   ],
   "source": [
    "#Create arrays of zeros\n",
    "arr0 = np.zeros((3,3),dtype = 'int64')\n",
    "print arr0\n",
    "print arr0.dtype"
   ]
  },
  {
   "cell_type": "code",
   "execution_count": 10,
   "metadata": {},
   "outputs": [
    {
     "name": "stdout",
     "output_type": "stream",
     "text": [
      "[[1. 0. 0. 0. 0.]\n",
      " [0. 1. 0. 0. 0.]\n",
      " [0. 0. 1. 0. 0.]\n",
      " [0. 0. 0. 1. 0.]\n",
      " [0. 0. 0. 0. 1.]]\n",
      "--------------------\n",
      "[[5. 0. 0. 0. 0.]\n",
      " [0. 5. 0. 0. 0.]\n",
      " [0. 0. 5. 0. 0.]\n",
      " [0. 0. 0. 5. 0.]\n",
      " [0. 0. 0. 0. 5.]]\n"
     ]
    }
   ],
   "source": [
    "#Create identity matrix\n",
    "I = np.eye(5,5)\n",
    "print I\n",
    "\n",
    "#You can apply basic Mathematical operations\n",
    "\n",
    "print '-'*20\n",
    "print I*5"
   ]
  },
  {
   "cell_type": "code",
   "execution_count": 20,
   "metadata": {},
   "outputs": [
    {
     "name": "stdout",
     "output_type": "stream",
     "text": [
      "[[1. 1. 1. 1. 1.]\n",
      " [1. 1. 1. 1. 1.]\n",
      " [1. 1. 1. 1. 1.]\n",
      " [1. 1. 1. 1. 1.]\n",
      " [1. 1. 1. 1. 1.]]\n",
      "--------------------\n",
      "float64\n",
      "[[1 1 1 1 1]\n",
      " [1 1 1 1 1]\n",
      " [1 1 1 1 1]\n",
      " [1 1 1 1 1]\n",
      " [1 1 1 1 1]]\n",
      "int32\n"
     ]
    }
   ],
   "source": [
    "#Create arrays of ones\n",
    "one = np.ones((5,5))\n",
    "print one\n",
    "print '-'*20\n",
    "#print one*5\n",
    "print one.dtype\n",
    "\n",
    "two = np.ones((5,5),'int32')\n",
    "print two\n",
    "print two.dtype"
   ]
  },
  {
   "cell_type": "code",
   "execution_count": 23,
   "metadata": {},
   "outputs": [
    {
     "name": "stdout",
     "output_type": "stream",
     "text": [
      "[[1 1 1 1 1]\n",
      " [1 1 1 1 1]\n",
      " [1 1 1 1 1]\n",
      " [1 1 1 1 1]\n",
      " [1 1 1 1 1]]\n",
      "(5, 5)\n"
     ]
    }
   ],
   "source": [
    "# Copying the arrays \n",
    "arr = two.copy()\n",
    "print arr\n",
    "print arr.shape"
   ]
  },
  {
   "cell_type": "code",
   "execution_count": 36,
   "metadata": {},
   "outputs": [
    {
     "name": "stdout",
     "output_type": "stream",
     "text": [
      "[ 1  2  3  4  5  6  7  8  9 10]\n",
      "(10,)\n",
      "RESHAPING\n",
      "(2, 5)\n",
      "(2, 5)\n"
     ]
    }
   ],
   "source": [
    "#Reshaping\n",
    "array = np.array([1,2,3,4,5,6,7,8,9,10])\n",
    "print array\n",
    "print array.shape\n",
    "\n",
    "print 'RESHAPING'\n",
    "array1 = array.reshape((2,5))\n",
    "print array1.shape\n",
    "\n",
    "# -1 means default value\n",
    "array2 = array.reshape((2,-1))\n",
    "print array2.shape"
   ]
  },
  {
   "cell_type": "code",
   "execution_count": 50,
   "metadata": {},
   "outputs": [
    {
     "name": "stdout",
     "output_type": "stream",
     "text": [
      "[[0.06327435 0.67478347 0.26368435 0.34569785 0.11016254]\n",
      " [0.9811393  0.26015914 0.29292087 0.0501351  0.25519086]\n",
      " [0.52829117 0.11124733 0.68917702 0.5541963  0.69112729]\n",
      " [0.08054701 0.71039136 0.08477225 0.42614197 0.20287585]\n",
      " [0.1101152  0.73029714 0.85430591 0.56176219 0.65868203]]\n"
     ]
    }
   ],
   "source": [
    "#Random Numpy Arrays\n",
    "r_array = np.random.random((5,5))\n",
    "print r_array\n",
    "#Value is B/W 0 and 1\n",
    "#print r_array.mean()"
   ]
  },
  {
   "cell_type": "code",
   "execution_count": 56,
   "metadata": {},
   "outputs": [
    {
     "name": "stdout",
     "output_type": "stream",
     "text": [
      "0.41164311384583335\n",
      "1.0\n",
      "2.0\n"
     ]
    }
   ],
   "source": [
    "#You can find mean also\n",
    "print r_array.mean()\n",
    "print (one).mean()\n",
    "print (one*2).mean()"
   ]
  },
  {
   "cell_type": "code",
   "execution_count": 63,
   "metadata": {},
   "outputs": [
    {
     "name": "stdout",
     "output_type": "stream",
     "text": [
      "[[-2  4 -1  3  2]\n",
      " [ 2 -2  4  3 -3]\n",
      " [ 3  4  2 -4  2]\n",
      " [ 1 -3  3 -5 -3]\n",
      " [-5  0 -1  1 -1]]\n"
     ]
    }
   ],
   "source": [
    "#Random Arrays with range of our choice\n",
    "a = np.random.randint(low = -5 , high = 5 , size = (5,5))\n",
    "print a"
   ]
  },
  {
   "cell_type": "code",
   "execution_count": 64,
   "metadata": {},
   "outputs": [
    {
     "name": "stdout",
     "output_type": "stream",
     "text": [
      "[[1.23 1.23 1.23 1.23 1.23]\n",
      " [1.23 1.23 1.23 1.23 1.23]\n",
      " [1.23 1.23 1.23 1.23 1.23]\n",
      " [1.23 1.23 1.23 1.23 1.23]\n",
      " [1.23 1.23 1.23 1.23 1.23]]\n"
     ]
    }
   ],
   "source": [
    "#Creating Array with constant fixed value\n",
    "fix = np.full((5,5) , 1.23)\n",
    "print fix"
   ]
  },
  {
   "cell_type": "code",
   "execution_count": 69,
   "metadata": {},
   "outputs": [
    {
     "name": "stdout",
     "output_type": "stream",
     "text": [
      "[-10  -8  -6  -4  -2   0   2   4   6   8]\n",
      "[-5 -4 -3 -2 -1  0  1  2  3  4]\n"
     ]
    }
   ],
   "source": [
    "#Creating Array with set sequence\n",
    "seq = np.arange(-10 , 10 , 2)\n",
    "print seq\n",
    "\n",
    "#It does not take the last value   \n",
    "# Consider it as [ )\n",
    "last = np.arange(-5 , 5)\n",
    "print last"
   ]
  },
  {
   "cell_type": "code",
   "execution_count": 70,
   "metadata": {},
   "outputs": [
    {
     "name": "stdout",
     "output_type": "stream",
     "text": [
      "[-1.  -0.5  0.   0.5  1. ]\n"
     ]
    }
   ],
   "source": [
    "# Creating an array equal spaces B/W elements\n",
    "equal = np.linspace(-1 , 1 , 5)\n",
    "print equal"
   ]
  },
  {
   "cell_type": "markdown",
   "metadata": {},
   "source": [
    "# INDEXING"
   ]
  },
  {
   "cell_type": "code",
   "execution_count": 78,
   "metadata": {},
   "outputs": [
    {
     "name": "stdout",
     "output_type": "stream",
     "text": [
      "[[1 2 3]\n",
      " [4 5 6]\n",
      " [7 8 9]]\n",
      "(3, 3)\n",
      "--------------------\n",
      "1 \n",
      "9\n",
      "9\n",
      "[[9 2 3]\n",
      " [4 5 6]\n",
      " [7 8 9]]\n"
     ]
    }
   ],
   "source": [
    "# In python indexing starts from 0\n",
    "array = np.array([[1,2,3] , [4,5,6] , [7,8,9]])\n",
    "print array\n",
    "print array.shape\n",
    "\n",
    "print '-'*20\n",
    "\n",
    "print array[0,0] , '\\n' , array[2,2]\n",
    "\n",
    "# -1 means the last value\n",
    "print array[-1,-1]\n",
    "\n",
    "#We can change the value of the particular index too\n",
    "array[0,0] = 9\n",
    "print array"
   ]
  },
  {
   "cell_type": "code",
   "execution_count": 92,
   "metadata": {},
   "outputs": [
    {
     "name": "stdout",
     "output_type": "stream",
     "text": [
      "[ 1  2  3  4  5  6  7  8  9 10]\n",
      "--------------------\n",
      "[1 2 3 4 5]\n",
      "[3 4]\n",
      "[1 3 5]\n",
      "[10  9  8  7  6  5  4  3  2  1]\n"
     ]
    }
   ],
   "source": [
    "a = np.array([1,2,3,4,5,6,7,8,9,10])\n",
    "print a\n",
    "\n",
    "print '-'*20\n",
    "\n",
    "print a[:5]\n",
    "#Means from start to end -1 position\n",
    "\n",
    "print a[2:4]\n",
    "\n",
    "print a[:5:2]\n",
    "#Taking every 2nd element\n",
    "\n",
    "#Reversing\n",
    "#Space means default value \n",
    "print a[-1: :-1]"
   ]
  },
  {
   "cell_type": "markdown",
   "metadata": {},
   "source": [
    "# Array Math"
   ]
  },
  {
   "cell_type": "code",
   "execution_count": 112,
   "metadata": {},
   "outputs": [
    {
     "name": "stdout",
     "output_type": "stream",
     "text": [
      "[5 7 9]\n",
      "[5 7 9]\n",
      "[-3 -3 -3]\n",
      "[-3 -3 -3]\n",
      "[ 4 10 18]\n",
      "[ 4 10 18]\n",
      "[0.25 0.4  0.5 ]\n",
      "[0.25 0.4  0.5 ]\n",
      "[1.         1.41421356 1.73205081]\n",
      "[ 2.71828183  7.3890561  20.08553692]\n"
     ]
    }
   ],
   "source": [
    "x = np.array([1,2,3])\n",
    "y = np.array([4,5,6])\n",
    "\n",
    "# Addition\n",
    "print x + y\n",
    "print np.add(x , y)\n",
    "#Element wise\n",
    "\n",
    "#Subtraction\n",
    "print x - y\n",
    "print np.subtract(x , y)\n",
    "\n",
    "#Multiplication\n",
    "print x * y\n",
    "print np.multiply(x , y)\n",
    "\n",
    "#Division\n",
    "#For proper results we should use float\n",
    "# so\n",
    "a = np.array([1,2,3] , 'float64')\n",
    "b = np.array([4,5,6] , 'float64')\n",
    "print a/b\n",
    "print np.divide(a , b)\n",
    "\n",
    "#Squareroot\n",
    "print np.sqrt(a)\n",
    "\n",
    "print np.exp(a)"
   ]
  },
  {
   "cell_type": "code",
   "execution_count": 115,
   "metadata": {},
   "outputs": [
    {
     "name": "stdout",
     "output_type": "stream",
     "text": [
      "32.0\n",
      "32.0\n",
      "32\n",
      "32\n"
     ]
    }
   ],
   "source": [
    "#Did u notice that we didn't do matrix multipliacation we just did element-wise multipliaction\n",
    "#That's how we do matrix multiplication\n",
    "\n",
    "print a.dot(b)\n",
    "print np.dot(a , b)\n",
    "\n",
    "\n",
    "print x.dot(y)\n",
    "print np.dot(x , y)"
   ]
  },
  {
   "cell_type": "code",
   "execution_count": 125,
   "metadata": {},
   "outputs": [
    {
     "name": "stdout",
     "output_type": "stream",
     "text": [
      "6\n",
      "2.0\n",
      "[[1 2 3]\n",
      " [4 5 6]\n",
      " [7 8 9]]\n",
      "[12 15 18]\n",
      "[ 6 15 24]\n"
     ]
    }
   ],
   "source": [
    "#Computations on array\n",
    "print np.sum(x)\n",
    "print np.average(x)\n",
    "\n",
    "\n",
    "new = np.array([[1,2,3] , [4,5,6] , [7,8,9]])\n",
    "print new\n",
    "print np.sum(new , axis=0)#Sum along each column\n",
    "print np.sum(new , axis=1)#sum along each row"
   ]
  },
  {
   "cell_type": "code",
   "execution_count": 132,
   "metadata": {},
   "outputs": [
    {
     "name": "stdout",
     "output_type": "stream",
     "text": [
      "[[1 2 3]\n",
      " [4 5 6]\n",
      " [7 8 9]]\n",
      "TRANSPOSE\n",
      "[[1 4 7]\n",
      " [2 5 8]\n",
      " [3 6 9]]\n",
      "[7 9 9 7 7]\n",
      "(5,)\n",
      "[7 9 9 7 7]\n",
      "(5,)\n"
     ]
    }
   ],
   "source": [
    "#Transpose\n",
    "\n",
    "print new\n",
    "print 'TRANSPOSE'\n",
    "print new.T\n",
    "\n",
    "\n",
    "#What if we do the transpose of rank=1 matrix\n",
    "mat = np.random.randint(5,10, size = 5)\n",
    "print mat\n",
    "print mat.shape\n",
    "print mat.T\n",
    "print mat.T.shape\n",
    "#NO change"
   ]
  },
  {
   "cell_type": "code",
   "execution_count": null,
   "metadata": {},
   "outputs": [],
   "source": []
  }
 ],
 "metadata": {
  "kernelspec": {
   "display_name": "Python 2",
   "language": "python",
   "name": "python2"
  },
  "language_info": {
   "codemirror_mode": {
    "name": "ipython",
    "version": 2
   },
   "file_extension": ".py",
   "mimetype": "text/x-python",
   "name": "python",
   "nbconvert_exporter": "python",
   "pygments_lexer": "ipython2",
   "version": "2.7.15"
  }
 },
 "nbformat": 4,
 "nbformat_minor": 2
}
